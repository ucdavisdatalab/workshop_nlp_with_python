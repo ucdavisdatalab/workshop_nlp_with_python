{
 "cells": [
  {
   "cell_type": "markdown",
   "id": "63d429ef",
   "metadata": {},
   "source": [
    "Classification and Feature Engineering\n",
    "==============================="
   ]
  },
  {
   "cell_type": "markdown",
   "id": "5aad8e76",
   "metadata": {},
   "source": [
    "Workflow set up\n",
    "-------------------\n",
    "\n",
    "As before, we'll begin by loading our `spaCy` model."
   ]
  },
  {
   "cell_type": "code",
   "execution_count": 1,
   "id": "4933acb1",
   "metadata": {},
   "outputs": [],
   "source": [
    "import spacy\n",
    "\n",
    "nlp = spacy.load('en_core_web_md')"
   ]
  },
  {
   "cell_type": "markdown",
   "id": "689295e6",
   "metadata": {},
   "source": [
    "Later on we're going to do some work with sentiment analysis. `spaCy` can help us with this to an extent, but the default pipeline of the model does not include a sentiment component. You can check which processes a model will run on a document with the following:"
   ]
  },
  {
   "cell_type": "code",
   "execution_count": 2,
   "id": "dc23bb26",
   "metadata": {},
   "outputs": [
    {
     "name": "stdout",
     "output_type": "stream",
     "text": [
      "tok2vec\n",
      "tagger\n",
      "parser\n",
      "senter\n",
      "ner\n",
      "attribute_ruler\n",
      "lemmatizer\n"
     ]
    }
   ],
   "source": [
    "for name in nlp.component_names:\n",
    "    print(name)"
   ]
  },
  {
   "cell_type": "markdown",
   "id": "7fd4114c",
   "metadata": {},
   "source": [
    "### Adding a pipe\n",
    "\n",
    "We'll need to **add a pipe** to the pipline. In this case, we're using a sentiment analysis tool that's been ported over from the [TextBlob] library (which is itself a useful tool for NLP!). Adding it to the pipeline is simply a matter of using `nlp.add_pipe()`.\n",
    "\n",
    "[TextBlob]: https://textblob.readthedocs.io/en/dev/"
   ]
  },
  {
   "cell_type": "code",
   "execution_count": 3,
   "id": "9789e9b6",
   "metadata": {},
   "outputs": [
    {
     "data": {
      "text/plain": [
       "<spacytextblob.spacytextblob.SpacyTextBlob at 0x11fb536a0>"
      ]
     },
     "execution_count": 3,
     "metadata": {},
     "output_type": "execute_result"
    }
   ],
   "source": [
    "from spacytextblob.spacytextblob import SpacyTextBlob\n",
    "\n",
    "nlp.add_pipe('spacytextblob')"
   ]
  },
  {
   "cell_type": "markdown",
   "id": "d3efa8d0",
   "metadata": {},
   "source": [
    "Now, if we run through the component names, we'll see that the model performs sentiment analysis when it processes documents."
   ]
  },
  {
   "cell_type": "code",
   "execution_count": 4,
   "id": "afc67d79",
   "metadata": {},
   "outputs": [
    {
     "name": "stdout",
     "output_type": "stream",
     "text": [
      "tok2vec\n",
      "tagger\n",
      "parser\n",
      "senter\n",
      "ner\n",
      "attribute_ruler\n",
      "lemmatizer\n",
      "spacytextblob\n"
     ]
    }
   ],
   "source": [
    "for name in nlp.component_names:\n",
    "    print(name)"
   ]
  },
  {
   "cell_type": "markdown",
   "id": "78b70658",
   "metadata": {},
   "source": [
    "It's also possible to remove model components. You might do so if you know you don't need certain kinds of information about your documents. For example, in this session we won't be doing any named entity recognition, so we'll drop this component from the pipeline. This will shorten our procesing time and it will decrease the amount of data associated with each document."
   ]
  },
  {
   "cell_type": "code",
   "execution_count": 5,
   "id": "2f2ffcb5",
   "metadata": {},
   "outputs": [
    {
     "name": "stdout",
     "output_type": "stream",
     "text": [
      "tok2vec\n",
      "tagger\n",
      "parser\n",
      "senter\n",
      "attribute_ruler\n",
      "lemmatizer\n",
      "spacytextblob\n"
     ]
    }
   ],
   "source": [
    "nlp.remove_pipe('ner')\n",
    "\n",
    "for name in nlp.component_names:\n",
    "    print(name)"
   ]
  },
  {
   "cell_type": "markdown",
   "id": "1840f182",
   "metadata": {},
   "source": [
    "Later on we'll discuss how to use the extra component we've just added to our model. But for now, let's move on to loading our corpus."
   ]
  },
  {
   "cell_type": "markdown",
   "id": "e84e4d66",
   "metadata": {},
   "source": [
    "### Generating labels\n",
    "\n",
    "First off, we need to make some labels. Each file is labeled with its text genre. We'll go through every file name and extract that information to build a list of labels, which we'll later associate with our corpus."
   ]
  },
  {
   "cell_type": "code",
   "execution_count": 6,
   "id": "2ff072fd",
   "metadata": {},
   "outputs": [],
   "source": [
    "import glob\n",
    "import re\n",
    "\n",
    "paths = glob.glob('data/session_two/corpus/*.txt')\n",
    "paths.sort()\n",
    "\n",
    "labels = []\n",
    "for path in paths:\n",
    "    if re.findall('fiction', path):\n",
    "        labels.append(0)\n",
    "    elif re.findall('summaries', path):\n",
    "        labels.append(1)\n",
    "    else:\n",
    "        labels.append(2)\n",
    "        \n",
    "label_dict = {0: 'fiction', 1: 'summary', 2: 'abstract'}"
   ]
  },
  {
   "cell_type": "markdown",
   "id": "2b466670",
   "metadata": {},
   "source": [
    "### Lazy loading\n",
    "\n",
    "With this done, we can load and process our files. There are around 250 of them, and some are fairly long. To handle this, we'll use a slightly different process than what we've been doing so far. Instead of loading everything into memory all at once, we'll incrementally stream in files using a **generator** and let `spaCy` automatically call up the next file when it's finished processing. This is called **lazy loading**. It's a good idea to do this kind of thing when you're working with large corpora: it's far more memory efficient, and it saves you the trouble of needing to write a bunch of `for` loops to manage the preprocessing work.\n",
    "\n",
    "The code is fairly straightforward. All we need to do is send a function our filepaths and have it `yield` out opened files."
   ]
  },
  {
   "cell_type": "code",
   "execution_count": 7,
   "id": "d54d4e56",
   "metadata": {},
   "outputs": [],
   "source": [
    "def lazy_load(paths):\n",
    "    for path in paths:\n",
    "        doc = open(path, 'r')\n",
    "        yield doc.read()\n",
    "        \n",
    "doc_pointer = lazy_load(paths)"
   ]
  },
  {
   "cell_type": "markdown",
   "id": "d1d77cdd",
   "metadata": {},
   "source": [
    "There is a downside to this, however: remember that generators just point to the next objec; they only work with the data represented by that pointer when some process is called. That can make it difficult to poke around in your data, since here:"
   ]
  },
  {
   "cell_type": "code",
   "execution_count": 8,
   "id": "ff42221e",
   "metadata": {},
   "outputs": [
    {
     "data": {
      "text/plain": [
       "<generator object lazy_load at 0x14fafe930>"
      ]
     },
     "execution_count": 8,
     "metadata": {},
     "output_type": "execute_result"
    }
   ],
   "source": [
    "doc_pointer"
   ]
  },
  {
   "cell_type": "markdown",
   "id": "b7019d64",
   "metadata": {},
   "source": [
    "...all we see is the pointer. To know what's actually in the corpus, you'd need to call in an instance, with `next()`:"
   ]
  },
  {
   "cell_type": "code",
   "execution_count": 9,
   "id": "ed2fa4c7",
   "metadata": {},
   "outputs": [
    {
     "name": "stdout",
     "output_type": "stream",
     "text": [
      "Adventure V. The Musgrave Ritual\n",
      "\n",
      "\n",
      "An anomaly which often struck me in the character of my friend Sh\n"
     ]
    }
   ],
   "source": [
    "doc = next(doc_pointer)\n",
    "print(doc[:100])"
   ]
  },
  {
   "cell_type": "markdown",
   "id": "62fd0a30",
   "metadata": {},
   "source": [
    "Luckily, `spaCy` is good at handling this sort of thing. All we need to do is wrap our paths in `lazy_load()` and send this to a function called `nlp.pipe()`. The latter will go through our generator and process each document when it's ready to do so."
   ]
  },
  {
   "cell_type": "code",
   "execution_count": 10,
   "id": "9aac517c",
   "metadata": {},
   "outputs": [],
   "source": [
    "to_process = nlp.pipe(lazy_load(paths))"
   ]
  },
  {
   "cell_type": "markdown",
   "id": "fb63d988",
   "metadata": {},
   "source": [
    "Preprocessing\n",
    "-----------------\n",
    "\n",
    "With our model, labels, and loading function all set up, we can start processing our files. We're going to use a fairly simple cleaning function to weed out extra cruft in our documents. For every document, this function, which we'll call `clean()`, will return a list of lowercased and lemmatized words (provided these words aren't stop words).\n",
    "\n",
    "```{margin}\n",
    "The logic of `clean()` is as follows. For every token in a document:\n",
    "\n",
    "1. Check if the token contains alphabetic characters\n",
    "2. If it does, check to see whether it's a stopword or whether it's less than two characters long\n",
    "3. If it isn't, get its lemma, then convert it to lowercase\n",
    "4. Append the converted token to `cleaned`\n",
    "```"
   ]
  },
  {
   "cell_type": "code",
   "execution_count": 11,
   "id": "e8ac6e92",
   "metadata": {},
   "outputs": [],
   "source": [
    "def clean(doc):\n",
    "    cleaned = []\n",
    "    for token in doc:\n",
    "        if token.is_alpha:\n",
    "            if token.is_stop == False and len(token) > 2:\n",
    "                token = token.lemma_\n",
    "                token = token.lower()\n",
    "                cleaned.append(token)\n",
    "                \n",
    "    return cleaned"
   ]
  },
  {
   "cell_type": "markdown",
   "id": "5c7ac813",
   "metadata": {},
   "source": [
    "Now, we can use a simple list comprehension to clean our entire corpus. This will load every file, send it through `spaCy`, and then send it through our custom cleaning function."
   ]
  },
  {
   "cell_type": "code",
   "execution_count": 12,
   "id": "a1096c2e",
   "metadata": {},
   "outputs": [
    {
     "name": "stdout",
     "output_type": "stream",
     "text": [
      "CPU times: user 1min, sys: 9.96 s, total: 1min 10s\n",
      "Wall time: 1min 12s\n"
     ]
    }
   ],
   "source": [
    "%%time\n",
    "cleaned = [clean(doc) for doc in to_process]"
   ]
  },
  {
   "cell_type": "markdown",
   "id": "385990c4",
   "metadata": {},
   "source": [
    "Modeling I: tf-idf\n",
    "-------------------"
   ]
  },
  {
   "cell_type": "code",
   "execution_count": null,
   "id": "58e0c3ab",
   "metadata": {},
   "outputs": [],
   "source": []
  },
  {
   "cell_type": "markdown",
   "id": "2dbce4bd",
   "metadata": {},
   "source": [
    "Feature Engineering\n",
    "------------------------\n",
    "\n",
    "SOME PRELIMINARY REMARKS\n",
    "\n",
    "There are two key aspects of feature engineering. You need to know:\n",
    "\n",
    "1. What you want to learn about your corpus\n",
    "2. What kind of features might characterize your corpus\n",
    "\n",
    "The first point is straightforward, but very important. Your underlying research question needs to drive your computational work. Though we're working in an exploratory mode, there's actually a research question here: what features best characterize the different genres in our corpus?\n",
    "\n",
    "The second point is a little fuzzier. It's likely that you'll know at least a few things about your corpus, before you even load it into Python. For instance, even knowing where the data comes from can serve as an important frame with which to begin asking informed questions. While there's always going to be some fishing involved in exploratory work, you can keep your explorations somewhat focused by leveraging your prior knowledge about your data.\n",
    "\n",
    "In our case, we already know that there are three different genres in our corpus. We also know in a general sense some things about each of these genres. Abstracts, for example, are brief, fairly objective documents; often, they're written in the third person with passive voice. The same goes for plot summaries, though we might expect the formality of the language in summaries to be different than abstracts. On the other hand, fiction tends to be longer than the other two genres, and it also tends to have a more varied vocabulary.\n",
    "\n",
    "To be sure, these are general assumptions, which may or may not mesh with our actual corpus. But they're a good starting point, and we can write some code to generate metrics that will show whether our assumptions are, in fact, correct.\n",
    "\n",
    "We'll do so in two passes. Our **first set of features** will rely on the cleaned, bag-of-word representations of the corpus documents, which we've already produced above. **The second**, on the other hand, will collect information about things like grammatical structure or part-of-speech tags, and thus they will require us to use full, as-is representations of our documents."
   ]
  },
  {
   "cell_type": "markdown",
   "id": "e21847bc",
   "metadata": {},
   "source": [
    "### Document length\n",
    "\n",
    "The first of our metrics is a simple one: document length. Document length is a surprisingly effective indicator of different genres, and, even better, it's very easy information to collect. Below, we write a function to simply count the number of lemmatized tokens in each of our corpus documents."
   ]
  },
  {
   "cell_type": "code",
   "execution_count": 13,
   "id": "2d8e7ffe",
   "metadata": {},
   "outputs": [],
   "source": [
    "def doc_length(doc):\n",
    "    return len(doc)"
   ]
  },
  {
   "cell_type": "markdown",
   "id": "608d9889",
   "metadata": {},
   "source": [
    "Nice and easy!"
   ]
  },
  {
   "cell_type": "markdown",
   "id": "db01bc94",
   "metadata": {},
   "source": [
    "### Lexicon I: hapax richness\n",
    "\n",
    "With our document length function written, we can use its output to create another metric, called **hapax richness**. If you'll recall from the [second day] of our Getting Started with Textual Data workshop series, a hapax (short for \"hapax legomenon\") is a word that occurs only once in a document. Researchers, especially those working in authorship attribution, will use such words to create a measure of a document's lexical complexity: the more hapaxes in a document, the more lexically complex that document is said to be.\n",
    "\n",
    "Generating a hapax richness metric involves finding all hapaxes in a document. Once we've done so, we simply take the sum of those tokens over the total number of tokens in a document.\n",
    "\n",
    "[second day]: https://ucdavisdatalab.github.io/workshop_getting_started_with_textual_data/04_corpus-analytics.html#raw-metrics-terms"
   ]
  },
  {
   "cell_type": "code",
   "execution_count": 14,
   "id": "750e4ae0",
   "metadata": {},
   "outputs": [],
   "source": [
    "from collections import Counter\n",
    "\n",
    "def hapax_richness(doc, doc_len):\n",
    "    tokens = Counter(doc)\n",
    "    hapaxes = Counter(token for token, count in tokens.items() if count == 1)\n",
    "    n_hapaxes = sum(hapaxes.values())\n",
    "    \n",
    "    return n_hapaxes / doc_len"
   ]
  },
  {
   "cell_type": "markdown",
   "id": "c2db0688",
   "metadata": {},
   "source": [
    "### Checking our work\n",
    "\n",
    "Now that we have two methods of generating metrics about our corpus, let's run each document through them and put the results in a `pandas` dataframe. We'll also include the labels from before, which will require us to `zip` the document list together with the list that contains our labels."
   ]
  },
  {
   "cell_type": "code",
   "execution_count": 15,
   "id": "47002a60",
   "metadata": {},
   "outputs": [
    {
     "data": {
      "text/html": [
       "<div>\n",
       "<style scoped>\n",
       "    .dataframe tbody tr th:only-of-type {\n",
       "        vertical-align: middle;\n",
       "    }\n",
       "\n",
       "    .dataframe tbody tr th {\n",
       "        vertical-align: top;\n",
       "    }\n",
       "\n",
       "    .dataframe thead th {\n",
       "        text-align: right;\n",
       "    }\n",
       "</style>\n",
       "<table border=\"1\" class=\"dataframe\">\n",
       "  <thead>\n",
       "    <tr style=\"text-align: right;\">\n",
       "      <th></th>\n",
       "      <th>LENGTH</th>\n",
       "      <th>HAPAX</th>\n",
       "      <th>LABEL</th>\n",
       "      <th>LABEL_NAME</th>\n",
       "    </tr>\n",
       "  </thead>\n",
       "  <tbody>\n",
       "    <tr>\n",
       "      <th>26</th>\n",
       "      <td>5487</td>\n",
       "      <td>0.190450</td>\n",
       "      <td>0</td>\n",
       "      <td>fiction</td>\n",
       "    </tr>\n",
       "    <tr>\n",
       "      <th>126</th>\n",
       "      <td>39</td>\n",
       "      <td>0.871795</td>\n",
       "      <td>1</td>\n",
       "      <td>summary</td>\n",
       "    </tr>\n",
       "    <tr>\n",
       "      <th>91</th>\n",
       "      <td>864</td>\n",
       "      <td>0.303241</td>\n",
       "      <td>1</td>\n",
       "      <td>summary</td>\n",
       "    </tr>\n",
       "    <tr>\n",
       "      <th>199</th>\n",
       "      <td>234</td>\n",
       "      <td>0.153846</td>\n",
       "      <td>2</td>\n",
       "      <td>abstract</td>\n",
       "    </tr>\n",
       "    <tr>\n",
       "      <th>214</th>\n",
       "      <td>1847</td>\n",
       "      <td>0.229020</td>\n",
       "      <td>2</td>\n",
       "      <td>abstract</td>\n",
       "    </tr>\n",
       "  </tbody>\n",
       "</table>\n",
       "</div>"
      ],
      "text/plain": [
       "     LENGTH     HAPAX  LABEL LABEL_NAME\n",
       "26     5487  0.190450      0    fiction\n",
       "126      39  0.871795      1    summary\n",
       "91      864  0.303241      1    summary\n",
       "199     234  0.153846      2   abstract\n",
       "214    1847  0.229020      2   abstract"
      ]
     },
     "execution_count": 15,
     "metadata": {},
     "output_type": "execute_result"
    }
   ],
   "source": [
    "import pandas as pd\n",
    "\n",
    "features = []\n",
    "for doc, label in zip(cleaned, labels):\n",
    "    doc_len = doc_length(doc)\n",
    "    hapax = hapax_richness(doc, doc_len)\n",
    "    features.append({\n",
    "        'LENGTH': doc_len,\n",
    "        'HAPAX': hapax,\n",
    "        'LABEL': label\n",
    "    })\n",
    "    \n",
    "features = pd.DataFrame(features)\n",
    "features['LABEL_NAME'] = features['LABEL'].replace(label_dict)\n",
    "features.sample(5)"
   ]
  },
  {
   "cell_type": "code",
   "execution_count": 16,
   "id": "f55f3894",
   "metadata": {},
   "outputs": [
    {
     "data": {
      "text/html": [
       "<div>\n",
       "<style scoped>\n",
       "    .dataframe tbody tr th:only-of-type {\n",
       "        vertical-align: middle;\n",
       "    }\n",
       "\n",
       "    .dataframe tbody tr th {\n",
       "        vertical-align: top;\n",
       "    }\n",
       "\n",
       "    .dataframe thead th {\n",
       "        text-align: right;\n",
       "    }\n",
       "</style>\n",
       "<table border=\"1\" class=\"dataframe\">\n",
       "  <thead>\n",
       "    <tr style=\"text-align: right;\">\n",
       "      <th></th>\n",
       "      <th>LENGTH</th>\n",
       "      <th>LABEL</th>\n",
       "    </tr>\n",
       "  </thead>\n",
       "  <tbody>\n",
       "    <tr>\n",
       "      <th>LENGTH</th>\n",
       "      <td>1.000000</td>\n",
       "      <td>-0.673947</td>\n",
       "    </tr>\n",
       "    <tr>\n",
       "      <th>LABEL</th>\n",
       "      <td>-0.673947</td>\n",
       "      <td>1.000000</td>\n",
       "    </tr>\n",
       "  </tbody>\n",
       "</table>\n",
       "</div>"
      ],
      "text/plain": [
       "          LENGTH     LABEL\n",
       "LENGTH  1.000000 -0.673947\n",
       "LABEL  -0.673947  1.000000"
      ]
     },
     "execution_count": 16,
     "metadata": {},
     "output_type": "execute_result"
    }
   ],
   "source": [
    "features[['LENGTH', 'LABEL']].corr()"
   ]
  },
  {
   "cell_type": "code",
   "execution_count": 17,
   "id": "48f96875",
   "metadata": {},
   "outputs": [
    {
     "data": {
      "text/html": [
       "<div>\n",
       "<style scoped>\n",
       "    .dataframe tbody tr th:only-of-type {\n",
       "        vertical-align: middle;\n",
       "    }\n",
       "\n",
       "    .dataframe tbody tr th {\n",
       "        vertical-align: top;\n",
       "    }\n",
       "\n",
       "    .dataframe thead th {\n",
       "        text-align: right;\n",
       "    }\n",
       "</style>\n",
       "<table border=\"1\" class=\"dataframe\">\n",
       "  <thead>\n",
       "    <tr style=\"text-align: right;\">\n",
       "      <th></th>\n",
       "      <th>HAPAX</th>\n",
       "      <th>LABEL</th>\n",
       "    </tr>\n",
       "  </thead>\n",
       "  <tbody>\n",
       "    <tr>\n",
       "      <th>HAPAX</th>\n",
       "      <td>1.00000</td>\n",
       "      <td>0.03421</td>\n",
       "    </tr>\n",
       "    <tr>\n",
       "      <th>LABEL</th>\n",
       "      <td>0.03421</td>\n",
       "      <td>1.00000</td>\n",
       "    </tr>\n",
       "  </tbody>\n",
       "</table>\n",
       "</div>"
      ],
      "text/plain": [
       "         HAPAX    LABEL\n",
       "HAPAX  1.00000  0.03421\n",
       "LABEL  0.03421  1.00000"
      ]
     },
     "execution_count": 17,
     "metadata": {},
     "output_type": "execute_result"
    }
   ],
   "source": [
    "features[['HAPAX', 'LABEL']].corr()"
   ]
  },
  {
   "cell_type": "code",
   "execution_count": 18,
   "id": "1fc63f1c",
   "metadata": {
    "scrolled": false
   },
   "outputs": [
    {
     "data": {
      "image/png": "[encoded data removed]",
      "text/plain": [
       "<Figure size 720x360 with 1 Axes>"
      ]
     },
     "metadata": {
      "needs_background": "light"
     },
     "output_type": "display_data"
    },
    {
     "data": {
      "image/png": "[encoded data removed]",
      "text/plain": [
       "<Figure size 720x360 with 1 Axes>"
      ]
     },
     "metadata": {
      "needs_background": "light"
     },
     "output_type": "display_data"
    }
   ],
   "source": [
    "import matplotlib.pyplot as plt\n",
    "\n",
    "def graph_dist(df, feature, groupby='LABEL', label_dict=label_dict):\n",
    "    fig, ax = plt.subplots(figsize=(10,5))\n",
    "    \n",
    "    for (i, d) in df.groupby(groupby):\n",
    "        d[feature].hist(ax=ax, label=i, alpha=0.7)\n",
    "        ax.legend(list(label_dict.values()))\n",
    "        ax.set_title(feature)\n",
    "        \n",
    "    return fig\n",
    "\n",
    "for feat in ['LENGTH', 'HAPAX']:\n",
    "    graph_dist(features, feat);"
   ]
  },
  {
   "cell_type": "markdown",
   "id": "b5296d18",
   "metadata": {},
   "source": [
    "### Grammatical structure: active vs. passive voice\n",
    "\n",
    "The first of our full text metrics concerns the distinction between active and passive voice. The hypothesis here is that the objective, report-like nature of abstracts (and perhaps summaries) will have more passive voice overall than fiction, which tends to be focused on present action. To measure this, we'll use `spaCy`'s dependency parser to identify the percentage of passive voice subjects in a document.\n",
    "\n",
    "We'll implement this in a function, which will tally the number of passive subjects and the number of active subjects in each sentence of the document. Then, it will sum together the total number of subjects and divide the number of passive subjects by that total."
   ]
  },
  {
   "cell_type": "code",
   "execution_count": 19,
   "id": "f742736b",
   "metadata": {},
   "outputs": [],
   "source": [
    "def score_passive(doc):\n",
    "    subjects = {'nsubjpass': 0, 'nsubj': 0}\n",
    "    for sent in doc.sents:\n",
    "        for token in sent:\n",
    "            if token.dep_ in ('nsubjpass', 'nsubj'):\n",
    "                subjects[token.dep_] += 1\n",
    "    total_subjects = sum(subjects.values())\n",
    "    \n",
    "    return subjects['nsubjpass'] / total_subjects"
   ]
  },
  {
   "cell_type": "markdown",
   "id": "55b95bce",
   "metadata": {},
   "source": [
    "### Lexicon I: abstract nouns\n",
    "\n",
    "The code for our second metric will follow a similar structure to the code above. Below, use `spaCy`'s part-of-speech tags to identify nouns in a document. Then we determine whether these are abstract nouns, on the theory that abstracts and summaries are likely to have more nouns that denote ideas, qualities, relationships, etc. than fiction.\n",
    "\n",
    "But how do we find an abstract noun? One simple way is to consider a noun's suffix. Suffixes like \"-acy\" or \"-ncy\" (accuracy, leniency), \"-hip\" or \"-ity\" (relationship, fixity) are good, general markers of abstract nouns. They're not always a perfect match, but they can give us a general sense of what kind of noun it is that we're working with."
   ]
  },
  {
   "cell_type": "code",
   "execution_count": 20,
   "id": "3cef631c",
   "metadata": {},
   "outputs": [],
   "source": [
    "ABSTRACT_SUFFIX = ('acy', 'ncy', 'nce', 'ism', 'ity', 'ty', 'ent', 'ess', 'hip', 'ion')\n",
    "\n",
    "def score_abstract(doc):\n",
    "    nouns = {'abstract': 0, 'not_abstract': 0}\n",
    "    for token in doc:\n",
    "        if token.pos_ == 'NOUN':\n",
    "            if token.suffix_ in ABSTRACT_SUFFIX:\n",
    "                nouns['abstract'] += 1\n",
    "            else:\n",
    "                nouns['not_abstract'] += 1\n",
    "    total_nouns = sum(nouns.values())\n",
    "    \n",
    "    return nouns['abstract'] / total_nouns"
   ]
  },
  {
   "cell_type": "markdown",
   "id": "4125e9f8",
   "metadata": {},
   "source": [
    "### Lexicon II: cardinal numbers\n",
    "\n",
    "So far we've been eliding potentially important differences between abstracts and summaries. Let's develop a metric that might help us distinguish between the two of them. One such metric could be a simple count of the number of cardinal numbers in a document: we'd expect summaries to have less than abstracts. Using `spaCy`'s part-of-speech tagger will help us identify these tokens."
   ]
  },
  {
   "cell_type": "code",
   "execution_count": 21,
   "id": "888124d1",
   "metadata": {},
   "outputs": [],
   "source": [
    "def num_cardinals(doc):\n",
    "    numbers = 0\n",
    "    for token in doc:\n",
    "        if token.tag_ == 'CD':\n",
    "            numbers += 1\n",
    "            \n",
    "    return ints"
   ]
  },
  {
   "cell_type": "markdown",
   "id": "518c6ca0",
   "metadata": {},
   "source": [
    "Note that we'll want to convert the return from this function into a percentage over total tokens. We'll do so in a later processing function."
   ]
  },
  {
   "cell_type": "markdown",
   "id": "cdbadca3",
   "metadata": {},
   "source": [
    "### Sentiment"
   ]
  },
  {
   "cell_type": "code",
   "execution_count": null,
   "id": "63ce9ae3",
   "metadata": {},
   "outputs": [],
   "source": []
  }
 ],
 "metadata": {
  "kernelspec": {
   "display_name": "nlp",
   "language": "python",
   "name": "nlp"
  },
  "language_info": {
   "codemirror_mode": {
    "name": "ipython",
    "version": 3
   },
   "file_extension": ".py",
   "mimetype": "text/x-python",
   "name": "python",
   "nbconvert_exporter": "python",
   "pygments_lexer": "ipython3",
   "version": "3.7.3"
  }
 },
 "nbformat": 4,
 "nbformat_minor": 5
}
