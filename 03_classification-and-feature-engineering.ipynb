{
 "cells": [
  {
   "cell_type": "markdown",
   "id": "63d429ef",
   "metadata": {},
   "source": [
    "Classification and Feature Engineering\n",
    "==============================="
   ]
  },
  {
   "cell_type": "markdown",
   "id": "5aad8e76",
   "metadata": {},
   "source": [
    "Workflow set up\n",
    "-------------------\n",
    "\n",
    "As before, we'll begin by loading our `spaCy` model."
   ]
  },
  {
   "cell_type": "code",
   "execution_count": 1,
   "id": "4933acb1",
   "metadata": {},
   "outputs": [],
   "source": [
    "import spacy\n",
    "\n",
    "nlp = spacy.load('en_core_web_md')"
   ]
  },
  {
   "cell_type": "markdown",
   "id": "689295e6",
   "metadata": {},
   "source": [
    "Later on we're going to do some work with sentiment analysis. `spaCy` can help us with this to an extent, but the default pipeline of the model does not include a sentiment component. You can check which processes a model will run on a document with the following:"
   ]
  },
  {
   "cell_type": "code",
   "execution_count": 2,
   "id": "dc23bb26",
   "metadata": {},
   "outputs": [
    {
     "name": "stdout",
     "output_type": "stream",
     "text": [
      "tok2vec\n",
      "tagger\n",
      "parser\n",
      "senter\n",
      "ner\n",
      "attribute_ruler\n",
      "lemmatizer\n"
     ]
    }
   ],
   "source": [
    "for name in nlp.component_names:\n",
    "    print(name)"
   ]
  },
  {
   "cell_type": "markdown",
   "id": "7fd4114c",
   "metadata": {},
   "source": [
    "### Changing `spaCy` pipeline components\n",
    "\n",
    "We'll need to **add a pipe** to the pipline. In this case, we're using a sentiment analysis tool that's been ported over from the [TextBlob] library (which is itself a useful tool for NLP!). Adding it to the pipeline is simply a matter of using `nlp.add_pipe()`.\n",
    "\n",
    "[TextBlob]: https://textblob.readthedocs.io/en/dev/"
   ]
  },
  {
   "cell_type": "code",
   "execution_count": 3,
   "id": "9789e9b6",
   "metadata": {},
   "outputs": [
    {
     "data": {
      "text/plain": [
       "<spacytextblob.spacytextblob.SpacyTextBlob at 0x12698c518>"
      ]
     },
     "execution_count": 3,
     "metadata": {},
     "output_type": "execute_result"
    }
   ],
   "source": [
    "from spacytextblob.spacytextblob import SpacyTextBlob\n",
    "\n",
    "nlp.add_pipe('spacytextblob')"
   ]
  },
  {
   "cell_type": "markdown",
   "id": "d3efa8d0",
   "metadata": {},
   "source": [
    "Now, if we run through the component names, we'll see that the model performs sentiment analysis when it processes documents. Adding pipes defaults to putting them at the end of all other components, but it's also possible to change their order."
   ]
  },
  {
   "cell_type": "code",
   "execution_count": 4,
   "id": "afc67d79",
   "metadata": {},
   "outputs": [
    {
     "name": "stdout",
     "output_type": "stream",
     "text": [
      "tok2vec\n",
      "tagger\n",
      "parser\n",
      "senter\n",
      "ner\n",
      "attribute_ruler\n",
      "lemmatizer\n",
      "spacytextblob\n"
     ]
    }
   ],
   "source": [
    "for name in nlp.component_names:\n",
    "    print(name)"
   ]
  },
  {
   "cell_type": "markdown",
   "id": "78b70658",
   "metadata": {},
   "source": [
    "It's also possible to remove model components. You might do so if you know you don't need certain kinds of information about your documents. For example, in this session we won't be doing any named entity recognition, so we'll drop this component from the pipeline. This will shorten our procesing time and it will decrease the amount of data associated with each document."
   ]
  },
  {
   "cell_type": "code",
   "execution_count": 5,
   "id": "2f2ffcb5",
   "metadata": {
    "tags": [
     "raises-exception"
    ]
   },
   "outputs": [
    {
     "ename": "AssertionError",
     "evalue": "Named entity recognition is no longer in the pipeline!",
     "output_type": "error",
     "traceback": [
      "\u001b[0;31m---------------------------------------------------------------------------\u001b[0m",
      "\u001b[0;31mAssertionError\u001b[0m                            Traceback (most recent call last)",
      "\u001b[0;32m/var/folders/h7/tzxfms7d2z7gwlgtbvw15msc0000gn/T/ipykernel_89227/2213502185.py\u001b[0m in \u001b[0;36m<module>\u001b[0;34m\u001b[0m\n\u001b[1;32m      1\u001b[0m \u001b[0mnlp\u001b[0m\u001b[0;34m.\u001b[0m\u001b[0mremove_pipe\u001b[0m\u001b[0;34m(\u001b[0m\u001b[0;34m'ner'\u001b[0m\u001b[0;34m)\u001b[0m\u001b[0;34m\u001b[0m\u001b[0;34m\u001b[0m\u001b[0m\n\u001b[1;32m      2\u001b[0m \u001b[0;34m\u001b[0m\u001b[0m\n\u001b[0;32m----> 3\u001b[0;31m \u001b[0;32massert\u001b[0m \u001b[0;34m'ner'\u001b[0m \u001b[0;32min\u001b[0m \u001b[0mnlp\u001b[0m\u001b[0;34m.\u001b[0m\u001b[0mcomponent_names\u001b[0m\u001b[0;34m,\u001b[0m \u001b[0;34m'Named entity recognition is no longer in the pipeline!'\u001b[0m\u001b[0;34m\u001b[0m\u001b[0;34m\u001b[0m\u001b[0m\n\u001b[0m",
      "\u001b[0;31mAssertionError\u001b[0m: Named entity recognition is no longer in the pipeline!"
     ]
    }
   ],
   "source": [
    "nlp.remove_pipe('ner')\n",
    "\n",
    "assert 'ner' in nlp.component_names, 'Named entity recognition is no longer in the pipeline!'"
   ]
  },
  {
   "cell_type": "markdown",
   "id": "1840f182",
   "metadata": {},
   "source": [
    "Later on we'll discuss how to use the extra component we've just added to our model. But for now, let's move on to loading our corpus."
   ]
  },
  {
   "cell_type": "markdown",
   "id": "e84e4d66",
   "metadata": {},
   "source": [
    "### Generating labels\n",
    "\n",
    "First off, we need to make some labels. Each file is labeled with its text genre. We'll go through every file name and extract that information to build a list of labels, which we'll later associate with our corpus.\n",
    "\n",
    "```{margin} What this loop does:\n",
    "\n",
    "1. Use `glob` to get all `.txt` filepaths\n",
    "2. Use `re.findall()` to determine which genre name is in the filepath\n",
    "3. Append a corresponding integer to a list of labels. This list will be in the same order as our files (an important alignment for later work)\n",
    "```"
   ]
  },
  {
   "cell_type": "code",
   "execution_count": 6,
   "id": "2ff072fd",
   "metadata": {},
   "outputs": [],
   "source": [
    "import glob\n",
    "import re\n",
    "\n",
    "paths = glob.glob('data/session_two/corpus/*.txt')\n",
    "paths.sort()\n",
    "\n",
    "labels = []\n",
    "for path in paths:\n",
    "    if re.findall('fiction', path):\n",
    "        labels.append(1)\n",
    "    elif re.findall('summaries', path):\n",
    "        labels.append(2)\n",
    "    else:\n",
    "        labels.append(3)\n",
    "        \n",
    "label_dict = {1: 'fiction', 2: 'summary', 3: 'abstract'}"
   ]
  },
  {
   "cell_type": "markdown",
   "id": "2b466670",
   "metadata": {},
   "source": [
    "### Lazy loading\n",
    "\n",
    "With this done, we can load and process our files. There are around 250 of them, and some are fairly long. To handle this, we'll use a slightly different process than what we've been doing so far. Instead of loading everything into memory all at once, we'll incrementally stream in files using a **generator** and let `spaCy` automatically call up the next file when it's finished processing. This is called **lazy loading**. It's a good idea to do this kind of thing when you're working with large corpora: it's far more memory efficient, and it saves you the trouble of needing to write a bunch of `for` loops to manage the preprocessing work.\n",
    "\n",
    "The code is fairly straightforward. All we need to do is send a function our filepaths and have it `yield` out opened files."
   ]
  },
  {
   "cell_type": "code",
   "execution_count": 7,
   "id": "d54d4e56",
   "metadata": {},
   "outputs": [],
   "source": [
    "def lazy_load(paths):\n",
    "    for path in paths:\n",
    "        doc = open(path, 'r')\n",
    "        yield doc.read()\n",
    "        \n",
    "doc_pointer = lazy_load(paths)"
   ]
  },
  {
   "cell_type": "markdown",
   "id": "d1d77cdd",
   "metadata": {},
   "source": [
    "There is a downside to this, however: remember that generators just point to the next object; they only work with the data represented by that pointer when some process is called. Accordingly, this can make it difficult to poke around in your data, since here:"
   ]
  },
  {
   "cell_type": "code",
   "execution_count": 8,
   "id": "ff42221e",
   "metadata": {},
   "outputs": [
    {
     "data": {
      "text/plain": [
       "<generator object lazy_load at 0x156931840>"
      ]
     },
     "execution_count": 8,
     "metadata": {},
     "output_type": "execute_result"
    }
   ],
   "source": [
    "doc_pointer"
   ]
  },
  {
   "cell_type": "markdown",
   "id": "b7019d64",
   "metadata": {},
   "source": [
    "...all we see is the pointer. To know what's actually in the corpus, you'd need to call in an instance, with `next()`:"
   ]
  },
  {
   "cell_type": "code",
   "execution_count": 9,
   "id": "ed2fa4c7",
   "metadata": {},
   "outputs": [
    {
     "name": "stdout",
     "output_type": "stream",
     "text": [
      "Adventure V. The Musgrave Ritual\n",
      "\n",
      "\n",
      "An anomaly which often struck me in the character of my friend Sh\n"
     ]
    }
   ],
   "source": [
    "doc = next(doc_pointer)\n",
    "print(doc[:100])"
   ]
  },
  {
   "cell_type": "markdown",
   "id": "62fd0a30",
   "metadata": {},
   "source": [
    "Luckily, `spaCy` is good at handling this sort of thing. All we need to do is wrap our paths in `lazy_load()` and send this to a function called `nlp.pipe()`. The latter will go through our generator and process each document when it's ready to do so."
   ]
  },
  {
   "cell_type": "code",
   "execution_count": 10,
   "id": "9aac517c",
   "metadata": {},
   "outputs": [],
   "source": [
    "to_process = nlp.pipe(lazy_load(paths))"
   ]
  },
  {
   "cell_type": "markdown",
   "id": "fb63d988",
   "metadata": {},
   "source": [
    "Preprocessing\n",
    "-----------------\n",
    "\n",
    "With our model, labels, and loading function all set up, we can start processing our files. We're going to use a fairly simple cleaning function to weed out extra cruft in our documents. For every document, this function – which we'll call `clean()` – will return a list of lowercased and lemmatized words (provided these words aren't stop words!).\n",
    "\n",
    "```{margin} Details about our cleaning function\n",
    "\n",
    "For every token in a document:\n",
    "\n",
    "1. Check if the token contains alphabetic characters\n",
    "2. If it does, check to see whether it's a stopword or whether it's less than two characters long\n",
    "3. If it isn't, get its lemma, then convert it to lowercase\n",
    "4. Append the converted token to `cleaned`\n",
    "```"
   ]
  },
  {
   "cell_type": "code",
   "execution_count": 11,
   "id": "e8ac6e92",
   "metadata": {},
   "outputs": [],
   "source": [
    "def clean(doc):\n",
    "    cleaned = []\n",
    "    for token in doc:\n",
    "        if token.is_alpha:\n",
    "            if token.is_stop == False and len(token) > 2:\n",
    "                token = token.lemma_\n",
    "                token = token.lower()\n",
    "                cleaned.append(token)\n",
    "                \n",
    "    return cleaned"
   ]
  },
  {
   "cell_type": "markdown",
   "id": "5c7ac813",
   "metadata": {},
   "source": [
    "Now, we can use a simple list comprehension to clean our entire corpus. This will load every file, send it through `spaCy`, and then send it through our custom cleaning function."
   ]
  },
  {
   "cell_type": "code",
   "execution_count": 12,
   "id": "a1096c2e",
   "metadata": {},
   "outputs": [],
   "source": [
    "cleaned = [clean(doc) for doc in to_process]"
   ]
  },
  {
   "cell_type": "markdown",
   "id": "694c8eed",
   "metadata": {},
   "source": [
    "Another reason for using a lazy loader on our files has to do with later work we'll do in this session: though our work so far has involved creating _bag of words_ representations of the corpus, later steps will require full text representations. With `lazy_load()` written, we can easily reprocess our corpus whenever we'd like."
   ]
  },
  {
   "cell_type": "markdown",
   "id": "385990c4",
   "metadata": {},
   "source": [
    "Modeling I: tf-idf\n",
    "-------------------"
   ]
  },
  {
   "cell_type": "code",
   "execution_count": null,
   "id": "58e0c3ab",
   "metadata": {},
   "outputs": [],
   "source": []
  },
  {
   "cell_type": "markdown",
   "id": "2dbce4bd",
   "metadata": {},
   "source": [
    "Feature Engineering\n",
    "------------------------\n",
    "\n",
    "SOME PRELIMINARY REMARKS\n",
    "\n",
    "There are two key aspects of feature engineering. You need to know:\n",
    "\n",
    "1. What you want to learn about your corpus\n",
    "2. What kind of features might characterize your corpus\n",
    "\n",
    "The first point is straightforward, but very important. Your underlying research question needs to drive your computational work. Though we're working in an exploratory mode, there's actually a research question here: what features best characterize the different genres in our corpus?\n",
    "\n",
    "The second point is a little fuzzier. It's likely that you'll know at least a few things about your corpus, before you even load it into Python. For instance, even knowing where the data comes from can serve as an important frame with which to begin asking informed questions. While there's always going to be some fishing involved in exploratory work, you can keep your explorations somewhat focused by leveraging your prior knowledge about your data.\n",
    "\n",
    "In our case, we already know that there are three different genres in our corpus. We also know in a general sense some things about each of these genres. Abstracts, for example, are brief, fairly objective documents; often, they're written in the third person with passive voice. The same goes for plot summaries, though we might expect the formality of the language in summaries to be different than abstracts. On the other hand, fiction tends to be longer than the other two genres, and it also tends to have a more varied vocabulary.\n",
    "\n",
    "To be sure, these are general assumptions, which may or may not mesh with our actual corpus. But they're a good starting point, and we can write some code to generate metrics that will show whether our assumptions are, in fact, correct.\n",
    "\n",
    "We'll do so in two passes. Our **first set of features** will rely on the cleaned, bag-of-word representations of the corpus documents, which we've already produced above. **The second**, on the other hand, will collect information about things like grammatical structure or part-of-speech tags, and thus they will require us to use full, as-is representations of our documents."
   ]
  },
  {
   "cell_type": "markdown",
   "id": "e21847bc",
   "metadata": {},
   "source": [
    "### Document length\n",
    "\n",
    "The first of our metrics is a simple one: document length. Document length is a surprisingly effective indicator of different genres, and, even better, it's very easy information to collect. In fact, there's no need to write custom code; we can just use `len()`."
   ]
  },
  {
   "cell_type": "markdown",
   "id": "db01bc94",
   "metadata": {},
   "source": [
    "### Lexicon I: hapax richness\n",
    "\n",
    "With our document length function written, we can use its output to create another metric, called **hapax richness**. If you'll recall from the [second day] of our Getting Started with Textual Data workshop series, a hapax (short for \"hapax legomenon\") is a word that occurs only once in a document. Researchers, especially those working in authorship attribution, will use such words to create a measure of a document's lexical complexity: the more hapaxes in a document, the more lexically complex that document is said to be.\n",
    "\n",
    "Generating a hapax richness metric involves finding all hapaxes in a document. Once we've done so, we simply take the sum of those tokens over the total number of tokens in a document.\n",
    "\n",
    "[second day]: https://ucdavisdatalab.github.io/workshop_getting_started_with_textual_data/04_corpus-analytics.html#raw-metrics-terms\n",
    "\n",
    "```{margin} Using a Counter\n",
    "\n",
    "A `Counter` is a subclass of the standard Python dictionary. They're very useful for tracking the frequency of items in some collection of data. Here, we simply wrap a document inside a `Counter` and Python will automatically convert that document's tokens into frequency data. This enables us to take a subset of those tokens with ease.\n",
    "```"
   ]
  },
  {
   "cell_type": "code",
   "execution_count": 13,
   "id": "750e4ae0",
   "metadata": {},
   "outputs": [],
   "source": [
    "from collections import Counter\n",
    "\n",
    "def hapax_richness(doc, doc_len):\n",
    "    tokens = Counter(doc)\n",
    "    hapaxes = Counter(token for token, count in tokens.items() if count == 1)\n",
    "    n_hapaxes = sum(hapaxes.values())\n",
    "    \n",
    "    return n_hapaxes / doc_len"
   ]
  },
  {
   "cell_type": "markdown",
   "id": "c2db0688",
   "metadata": {},
   "source": [
    "### Inspecting our work\n",
    "\n",
    "Now that we have two methods of generating metrics about our corpus, let's run each document through them and put the results in a `pandas` dataframe. We'll also include the labels from before, which will require us to `zip` the document list together with the list that contains our labels."
   ]
  },
  {
   "cell_type": "code",
   "execution_count": 14,
   "id": "47002a60",
   "metadata": {},
   "outputs": [],
   "source": [
    "import pandas as pd\n",
    "\n",
    "basic_features = []\n",
    "for doc, label in zip(cleaned, labels):\n",
    "    doc_len = len(doc)\n",
    "    hapax = hapax_richness(doc, doc_len)\n",
    "    basic_features.append({\n",
    "        'LENGTH': doc_len,\n",
    "        'HAPAX': hapax,\n",
    "        'LABEL': label\n",
    "    })\n",
    "    \n",
    "basic_features = pd.DataFrame(basic_features)\n",
    "basic_features['LABEL_NAME'] = basic_features['LABEL'].replace(label_dict)"
   ]
  },
  {
   "cell_type": "markdown",
   "id": "f40219fc",
   "metadata": {},
   "source": [
    "Let's take a look:"
   ]
  },
  {
   "cell_type": "code",
   "execution_count": 15,
   "id": "cbaa42bc",
   "metadata": {},
   "outputs": [
    {
     "data": {
      "text/html": [
       "<div>\n",
       "<style scoped>\n",
       "    .dataframe tbody tr th:only-of-type {\n",
       "        vertical-align: middle;\n",
       "    }\n",
       "\n",
       "    .dataframe tbody tr th {\n",
       "        vertical-align: top;\n",
       "    }\n",
       "\n",
       "    .dataframe thead th {\n",
       "        text-align: right;\n",
       "    }\n",
       "</style>\n",
       "<table border=\"1\" class=\"dataframe\">\n",
       "  <thead>\n",
       "    <tr style=\"text-align: right;\">\n",
       "      <th></th>\n",
       "      <th>LENGTH</th>\n",
       "      <th>HAPAX</th>\n",
       "      <th>LABEL</th>\n",
       "      <th>LABEL_NAME</th>\n",
       "    </tr>\n",
       "  </thead>\n",
       "  <tbody>\n",
       "    <tr>\n",
       "      <th>44</th>\n",
       "      <td>5794</td>\n",
       "      <td>0.173110</td>\n",
       "      <td>1</td>\n",
       "      <td>fiction</td>\n",
       "    </tr>\n",
       "    <tr>\n",
       "      <th>31</th>\n",
       "      <td>4464</td>\n",
       "      <td>0.207885</td>\n",
       "      <td>1</td>\n",
       "      <td>fiction</td>\n",
       "    </tr>\n",
       "    <tr>\n",
       "      <th>56</th>\n",
       "      <td>15</td>\n",
       "      <td>0.866667</td>\n",
       "      <td>2</td>\n",
       "      <td>summary</td>\n",
       "    </tr>\n",
       "    <tr>\n",
       "      <th>110</th>\n",
       "      <td>47</td>\n",
       "      <td>0.744681</td>\n",
       "      <td>2</td>\n",
       "      <td>summary</td>\n",
       "    </tr>\n",
       "    <tr>\n",
       "      <th>253</th>\n",
       "      <td>196</td>\n",
       "      <td>0.622449</td>\n",
       "      <td>3</td>\n",
       "      <td>abstract</td>\n",
       "    </tr>\n",
       "    <tr>\n",
       "      <th>193</th>\n",
       "      <td>790</td>\n",
       "      <td>0.217722</td>\n",
       "      <td>3</td>\n",
       "      <td>abstract</td>\n",
       "    </tr>\n",
       "  </tbody>\n",
       "</table>\n",
       "</div>"
      ],
      "text/plain": [
       "     LENGTH     HAPAX  LABEL LABEL_NAME\n",
       "44     5794  0.173110      1    fiction\n",
       "31     4464  0.207885      1    fiction\n",
       "56       15  0.866667      2    summary\n",
       "110      47  0.744681      2    summary\n",
       "253     196  0.622449      3   abstract\n",
       "193     790  0.217722      3   abstract"
      ]
     },
     "execution_count": 15,
     "metadata": {},
     "output_type": "execute_result"
    }
   ],
   "source": [
    "basic_features.groupby('LABEL').sample(2)"
   ]
  },
  {
   "cell_type": "markdown",
   "id": "83f95bee",
   "metadata": {},
   "source": [
    "There are a few ways to inspect our work more closely and determine whether these are meaningful features. All of them will leverage the `.groupby()` in `pandas` to partition subsets of the data and investigate the feature distributions therein. Throughout, we're interested in identifying features that seem to be different for each label type.\n",
    "\n",
    "You may find simple metrics like the mean distrubtions for features to be useful:"
   ]
  },
  {
   "cell_type": "code",
   "execution_count": 16,
   "id": "94ddca03",
   "metadata": {},
   "outputs": [
    {
     "data": {
      "text/html": [
       "<div>\n",
       "<style scoped>\n",
       "    .dataframe tbody tr th:only-of-type {\n",
       "        vertical-align: middle;\n",
       "    }\n",
       "\n",
       "    .dataframe tbody tr th {\n",
       "        vertical-align: top;\n",
       "    }\n",
       "\n",
       "    .dataframe thead th {\n",
       "        text-align: right;\n",
       "    }\n",
       "</style>\n",
       "<table border=\"1\" class=\"dataframe\">\n",
       "  <thead>\n",
       "    <tr style=\"text-align: right;\">\n",
       "      <th></th>\n",
       "      <th>LENGTH</th>\n",
       "      <th>HAPAX</th>\n",
       "    </tr>\n",
       "    <tr>\n",
       "      <th>LABEL_NAME</th>\n",
       "      <th></th>\n",
       "      <th></th>\n",
       "    </tr>\n",
       "  </thead>\n",
       "  <tbody>\n",
       "    <tr>\n",
       "      <th>abstract</th>\n",
       "      <td>547.980000</td>\n",
       "      <td>0.346419</td>\n",
       "    </tr>\n",
       "    <tr>\n",
       "      <th>fiction</th>\n",
       "      <td>3286.678571</td>\n",
       "      <td>0.250794</td>\n",
       "    </tr>\n",
       "    <tr>\n",
       "      <th>summary</th>\n",
       "      <td>178.930000</td>\n",
       "      <td>0.630816</td>\n",
       "    </tr>\n",
       "  </tbody>\n",
       "</table>\n",
       "</div>"
      ],
      "text/plain": [
       "                 LENGTH     HAPAX\n",
       "LABEL_NAME                       \n",
       "abstract     547.980000  0.346419\n",
       "fiction     3286.678571  0.250794\n",
       "summary      178.930000  0.630816"
      ]
     },
     "execution_count": 16,
     "metadata": {},
     "output_type": "execute_result"
    }
   ],
   "source": [
    "basic_features.groupby('LABEL_NAME')[['LENGTH', 'HAPAX']].mean()"
   ]
  },
  {
   "cell_type": "markdown",
   "id": "b313f316",
   "metadata": {},
   "source": [
    "There's some nice separability here!\n",
    "\n",
    "Determing whether features are correlated is also useful. We can break out by-label correlations with the following:"
   ]
  },
  {
   "cell_type": "code",
   "execution_count": 17,
   "id": "72a686f8",
   "metadata": {},
   "outputs": [
    {
     "data": {
      "text/html": [
       "<div>\n",
       "<style scoped>\n",
       "    .dataframe tbody tr th:only-of-type {\n",
       "        vertical-align: middle;\n",
       "    }\n",
       "\n",
       "    .dataframe tbody tr th {\n",
       "        vertical-align: top;\n",
       "    }\n",
       "\n",
       "    .dataframe thead th {\n",
       "        text-align: right;\n",
       "    }\n",
       "</style>\n",
       "<table border=\"1\" class=\"dataframe\">\n",
       "  <thead>\n",
       "    <tr style=\"text-align: right;\">\n",
       "      <th></th>\n",
       "      <th></th>\n",
       "      <th>LENGTH</th>\n",
       "      <th>HAPAX</th>\n",
       "    </tr>\n",
       "    <tr>\n",
       "      <th>LABEL_NAME</th>\n",
       "      <th></th>\n",
       "      <th></th>\n",
       "      <th></th>\n",
       "    </tr>\n",
       "  </thead>\n",
       "  <tbody>\n",
       "    <tr>\n",
       "      <th rowspan=\"2\" valign=\"top\">abstract</th>\n",
       "      <th>LENGTH</th>\n",
       "      <td>1.000000</td>\n",
       "      <td>-0.337493</td>\n",
       "    </tr>\n",
       "    <tr>\n",
       "      <th>HAPAX</th>\n",
       "      <td>-0.337493</td>\n",
       "      <td>1.000000</td>\n",
       "    </tr>\n",
       "    <tr>\n",
       "      <th rowspan=\"2\" valign=\"top\">fiction</th>\n",
       "      <th>LENGTH</th>\n",
       "      <td>1.000000</td>\n",
       "      <td>-0.882208</td>\n",
       "    </tr>\n",
       "    <tr>\n",
       "      <th>HAPAX</th>\n",
       "      <td>-0.882208</td>\n",
       "      <td>1.000000</td>\n",
       "    </tr>\n",
       "    <tr>\n",
       "      <th rowspan=\"2\" valign=\"top\">summary</th>\n",
       "      <th>LENGTH</th>\n",
       "      <td>1.000000</td>\n",
       "      <td>-0.778418</td>\n",
       "    </tr>\n",
       "    <tr>\n",
       "      <th>HAPAX</th>\n",
       "      <td>-0.778418</td>\n",
       "      <td>1.000000</td>\n",
       "    </tr>\n",
       "  </tbody>\n",
       "</table>\n",
       "</div>"
      ],
      "text/plain": [
       "                     LENGTH     HAPAX\n",
       "LABEL_NAME                           \n",
       "abstract   LENGTH  1.000000 -0.337493\n",
       "           HAPAX  -0.337493  1.000000\n",
       "fiction    LENGTH  1.000000 -0.882208\n",
       "           HAPAX  -0.882208  1.000000\n",
       "summary    LENGTH  1.000000 -0.778418\n",
       "           HAPAX  -0.778418  1.000000"
      ]
     },
     "execution_count": 17,
     "metadata": {},
     "output_type": "execute_result"
    }
   ],
   "source": [
    "basic_features.groupby('LABEL_NAME')[['LENGTH', 'HAPAX']].corr()"
   ]
  },
  {
   "cell_type": "markdown",
   "id": "2757bb48",
   "metadata": {},
   "source": [
    "It makes sense that length and hapax richness tend to be negatively correlated: the longer a text is, the more likely we are to see repeated words. In this sense, as it stands our hapax feature might not be as representative as we'd like it to be, especially when it comes to a document class like fiction. Surely there are rare, potentially important words in the fiction, but they're largely blurred by the length of the documents. To mitigate this, we could use a **window size** to determine hapax richness, modifying the code above, for example, to break texts into smaller chunks and get a mean hapax score for all chunks. We won't do this now, but keep in mind that you may have to make such modifications when engineering features.\n",
    "\n",
    "Raw metrics are useful, but so are visualizations. Below, we put together a quick function to show the by-label distribution of features in our data. The resultant histograms will make it clear whether our features are actually helping to partition our data, or whether they're just muddling distinctions between document classes even more.\n",
    "\n",
    "```{margin} What our graphing function does:\n",
    "\n",
    "1. Create a `matplotlib` subplots figure and axis\n",
    "2. Group the dataframe by a column and then iterate through the group name and group data, targeting a feature we'd like to inspect\n",
    "3. Create a histogram showing the number of documents with a certain value range for the feature\n",
    "\n",
    "Note: we're using a little scaling on the bins to correct for the class imbalances.\n",
    "```"
   ]
  },
  {
   "cell_type": "code",
   "execution_count": 18,
   "id": "1fc63f1c",
   "metadata": {
    "scrolled": false
   },
   "outputs": [
    {
     "data": {
      "image/png": "[encoded data removed]",
      "text/plain": [
       "<Figure size 720x360 with 1 Axes>"
      ]
     },
     "metadata": {
      "needs_background": "light"
     },
     "output_type": "display_data"
    },
    {
     "data": {
      "image/png": "[encoded data removed]",
      "text/plain": [
       "<Figure size 720x360 with 1 Axes>"
      ]
     },
     "metadata": {
      "needs_background": "light"
     },
     "output_type": "display_data"
    }
   ],
   "source": [
    "import matplotlib.pyplot as plt\n",
    "\n",
    "def graph_dist(df, feature, groupby='LABEL', label_dict=label_dict):\n",
    "    fig, ax = plt.subplots(figsize=(10,5))\n",
    "    \n",
    "    for (i, d) in df.groupby(groupby):\n",
    "        n_bins = round(len(d) * .25)\n",
    "        d[feature].hist(ax=ax, label=i, alpha=0.7, bins=n_bins)\n",
    "        ax.legend(list(label_dict.values()))\n",
    "        ax.set_ylabel(\"Number of documents\")\n",
    "        ax.set_xlabel(f\"{feature} range\")\n",
    "        \n",
    "    return fig\n",
    "\n",
    "for feat in ['LENGTH', 'HAPAX']:\n",
    "    graph_dist(basic_features, feat);"
   ]
  },
  {
   "cell_type": "markdown",
   "id": "17d8762f",
   "metadata": {},
   "source": [
    "These histograms usefully show us divisions among our classes. While the document lengths of summaries and abstracts have a similar shape and magnitude, there's good separability between their two distributions in the hapax richness scores. And throughout, documents labeled with fiction are notably different from the other two classes; a classifier is sure to register this. Indeed, this difference could serve as a counter to the suggestion above about creating a window size for hapax richness. Though windowing the documents might create a more realistic representation, we're already seeing useful separability within the hapax metric as it stands. In this sense, you might approach feature engineering with a fair bit of pragmatism, especially with regard to the wider goals of your research question. It may be that the fact that there's a difference at all is enough, regardless of whether it's the best, most nuanced representation of your data.\n",
    "\n",
    "For our purposes, what we have so far is, in fact, enough. We can feel pretty confident that the two features we've engineered so far will serve as useful metrics for a classifier, which is our ultimate intent for our session. With this established, it's time to move on to more complex metrics: ones that depend on full text representations of the documents."
   ]
  },
  {
   "cell_type": "markdown",
   "id": "b5296d18",
   "metadata": {},
   "source": [
    "### Active vs. passive voice\n",
    "\n",
    "The reason the following metrics are more complex is twofold. First, they require a little bit more in the way of coding than the ones above; and second, they require us to think more carefully about relationships across our corpus (often with a fair bit of hypothesizing!). To wit: the first of our full text metrics concerns the distinction between active and passive voice. The hypothesis here is that the objective, report-like nature of abstracts (and perhaps summaries) will have more passive voice overall than in fiction, which tends to be focused on present action. To measure this, we'll use `spaCy`'s dependency parser to identify the percentage of passive voice subjects in a document, versus active subjects.\n",
    "\n",
    "We'll implement this in a function, which will tally the number of passive subjects and the number of active subjects in each sentence of the document. Then, it will sum together the total number of subjects and divide the number of passive subjects by that total. As above, we'll use a `Counter` to store the intermediary information generated throughout this function."
   ]
  },
  {
   "cell_type": "code",
   "execution_count": 19,
   "id": "f742736b",
   "metadata": {},
   "outputs": [],
   "source": [
    "def score_passive(doc):\n",
    "    subjects = Counter({'nsubjpass': 0, 'nsubj': 0})\n",
    "    for sent in doc.sents:\n",
    "        for token in sent:\n",
    "            if token.dep_ in ('nsubjpass', 'nsubj'):\n",
    "                subjects[token.dep_] += 1\n",
    "    total_subjects = sum(subjects.values())\n",
    "    \n",
    "    return subjects['nsubjpass'] / total_subjects"
   ]
  },
  {
   "cell_type": "markdown",
   "id": "55b95bce",
   "metadata": {},
   "source": [
    "### Lexicon II: abstract nouns\n",
    "\n",
    "The code for our second metric will follow a similar structure to the code above. Below, we use `spaCy`'s part-of-speech tags to identify nouns in a document. Then we determine whether these are abstract nouns, on the theory that abstracts and summaries are likely to have more nouns that denote ideas, qualities, relationships, etc. than fiction.\n",
    "\n",
    "But how do we find an abstract noun? One simple way is to consider a noun's suffix. Suffixes like _-acy_ or _-ism_ (e.g. accuracy, isomorphism) and _-hip_ or _-ity_ (e.g. relationship, fixity) are good, general markers of abstract nouns. They're not always a perfect match, but they can give us a general sense of what kind of noun it is that we're working with."
   ]
  },
  {
   "cell_type": "code",
   "execution_count": 20,
   "id": "3cef631c",
   "metadata": {},
   "outputs": [],
   "source": [
    "ABSTRACT_SUFFIX = ('acy', 'ncy', 'nce', 'ism', 'ity', 'ty', 'ent', 'ess', 'hip', 'ion')\n",
    "\n",
    "def score_abstract(doc):\n",
    "    nouns = Counter({'abstract': 0, 'not_abstract': 0})\n",
    "    for token in doc:\n",
    "        if token.pos_ == 'NOUN':\n",
    "            if token.suffix_ in ABSTRACT_SUFFIX:\n",
    "                nouns['abstract'] += 1\n",
    "            else:\n",
    "                nouns['not_abstract'] += 1\n",
    "    total_nouns = sum(nouns.values())\n",
    "    \n",
    "    return nouns['abstract'] / total_nouns"
   ]
  },
  {
   "cell_type": "markdown",
   "id": "4125e9f8",
   "metadata": {},
   "source": [
    "### Lexicon III: cardinal numbers\n",
    "\n",
    "So far we've been eliding potentially important differences between abstracts and summaries. Let's develop a metric that might help us distinguish between the two of them. One such metric could be a simple count of the number of cardinal numbers in a document: we'd expect summaries to have less than abstracts (whether because the latter reports various metrics, or because they often contain citations, dates, etc.). Using `spaCy`'s part-of-speech tagger will help us identify these tokens. Once identified, it's just a matter of incrementing a count."
   ]
  },
  {
   "cell_type": "code",
   "execution_count": 21,
   "id": "888124d1",
   "metadata": {},
   "outputs": [],
   "source": [
    "def num_cardinals(doc):\n",
    "    numbers = 0\n",
    "    for token in doc:\n",
    "        if token.tag_ == 'CD':\n",
    "            numbers += 1\n",
    "            \n",
    "    return numbers"
   ]
  },
  {
   "cell_type": "markdown",
   "id": "518c6ca0",
   "metadata": {},
   "source": [
    "Note that we'll want to convert the return from this function into a percentage over total tokens. We'll do so in a later processing function that ties together everything we've written so far."
   ]
  },
  {
   "cell_type": "markdown",
   "id": "cdbadca3",
   "metadata": {},
   "source": [
    "### Sentiment\n",
    "\n",
    "The final metric we'll generate attempts to capture something about the sentiment of each document. **Sentiment analysis** is a popular NLP technique, which researchers use to determine affective and subjective information. Implementations vary, but most will assign a numeric value that represents the **polarity** of a text, that is, its general tendency toward negative, neutral, or positive sentiment. Typically, these values are a bounded range of `[-1, 1]`. Some implementations will also score the **subjectivity** of a text, with scores closer to `0` representing more \"objective\" texts and those tending toward `1` representing highly \"subjective\" texts.\n",
    "\n",
    "The data and methods that drive sentiment analysis are highly varied. The newest implementations use deep learning models to capture fine-grained nuances in text strings, while older versions of the technique are lexicon-based. The latter usually score texts with a combination of rule-based matching and predetermined values for words.\n",
    "\n",
    "If you use sentiment analysis, especially lexicon-based sentiment analysis (as we're doing here), it's important to keep in mind that the scores are, well, subjective. Someone had to go in and decide what _they_ thought the sentiment of words or phrases are. If you were to read the same text, you might not agree. When possible, try to find the dictionary that supplies the analyzer and get a sense of the classification rules that produce a value (for example, [here is the dictionary] that drives the `TextBlob` analyzer below). Good sentiment analysis toolkits will make this information readily available.\n",
    "\n",
    "For our purposes, we'll generate a very simple sentiment metric. The `TextBlob` pipe we added to our model assigns scores for an entire document, individual sentences, or single spans and tokens. We'll use sentences. The code below goes through each sentence in the document, accesses its `._.polarity` attribute, and assigns that to a list. Then it takes the mean score of everything in the list.\n",
    "\n",
    "[here is the dictionary]: https://github.com/sloria/TextBlob/blob/dev/textblob/en/en-sentiment.xml"
   ]
  },
  {
   "cell_type": "code",
   "execution_count": 25,
   "id": "63ce9ae3",
   "metadata": {},
   "outputs": [],
   "source": [
    "import numpy as np\n",
    "\n",
    "def score_polarity(doc):\n",
    "    scores = []\n",
    "    for sent in doc.sents:\n",
    "        score = sent._.polarity\n",
    "        scores.append(score)\n",
    "        \n",
    "    return np.mean(scores)"
   ]
  },
  {
   "cell_type": "markdown",
   "id": "6a8258be",
   "metadata": {},
   "source": [
    "With all of our advanced feature engineering functions written, we can process our corpus. We'll call the above functions together using a single `get_stats()` function, which returns a dictionary of feature–value pairs.\n",
    "\n",
    "```{margin} In a real life setting...\n",
    "\n",
    "...you might use `get_stats()` to do your text cleaning and basic feature engineering as well. That would save you the trouble of processing your corpus twice.\n",
    "```"
   ]
  },
  {
   "cell_type": "code",
   "execution_count": 23,
   "id": "bc7cef20",
   "metadata": {},
   "outputs": [],
   "source": [
    "def get_stats(doc):\n",
    "    passivity = score_passive(doc)\n",
    "    abstractness = score_abstract(doc)\n",
    "    numbers = num_cardinals(doc)\n",
    "    polarity = score_polarity(doc)\n",
    "    \n",
    "    return {\n",
    "        'PASSIVITY': passivity,\n",
    "        'ABSTRACTNESS': abstractness,\n",
    "        'NUMBERS': numbers,\n",
    "        'POLARITY': polarity\n",
    "    }"
   ]
  },
  {
   "cell_type": "markdown",
   "id": "5dd660e0",
   "metadata": {},
   "source": [
    "As above, we use `lazy_load` in conjunction with `nlp.pipe()` and a list comprehension to produce a list of feature dictionaries. These we can easily convert into a dataframe."
   ]
  },
  {
   "cell_type": "code",
   "execution_count": 26,
   "id": "8e994804",
   "metadata": {},
   "outputs": [],
   "source": [
    "to_process = lazy_load(paths)\n",
    "advanced_features = [get_stats(doc) for doc in nlp.pipe(to_process)]"
   ]
  },
  {
   "cell_type": "markdown",
   "id": "e70e319a",
   "metadata": {},
   "source": [
    "Now we can convert our advanced features into a dataframe and join them to our basic features. We'll also reorder the columns."
   ]
  },
  {
   "cell_type": "code",
   "execution_count": 27,
   "id": "67462a73",
   "metadata": {},
   "outputs": [],
   "source": [
    "advanced_features = pd.DataFrame(advanced_features)\n",
    "features = basic_features.join(advanced_features)\n",
    "\n",
    "reorder = [\n",
    "    'LENGTH', 'HAPAX', 'PASSIVITY', 'ABSTRACTNESS', \n",
    "    'NUMBERS', 'POLARITY', 'LABEL', 'LABEL_NAME'\n",
    "]\n",
    "features = features[reorder]"
   ]
  },
  {
   "cell_type": "markdown",
   "id": "17c6e32e",
   "metadata": {},
   "source": [
    "Before we can inspect the results with our histogram visualization, we need to make a small modification. Remember that the cardinal number values are raw – we need to divide them by their corresponding document lengths."
   ]
  },
  {
   "cell_type": "code",
   "execution_count": 28,
   "id": "5899440a",
   "metadata": {},
   "outputs": [],
   "source": [
    "features = features.assign(NUMBERS = features['NUMBERS'] / features['LENGTH'])"
   ]
  },
  {
   "cell_type": "markdown",
   "id": "9452f3ee",
   "metadata": {},
   "source": [
    "Time to visualize!"
   ]
  },
  {
   "cell_type": "code",
   "execution_count": 29,
   "id": "6c13d978",
   "metadata": {},
   "outputs": [
    {
     "data": {
      "image/png": "[encoded data removed]",
      "text/plain": [
       "<Figure size 720x360 with 1 Axes>"
      ]
     },
     "metadata": {
      "needs_background": "light"
     },
     "output_type": "display_data"
    },
    {
     "data": {
      "image/png": "[encoded data removed]",
      "text/plain": [
       "<Figure size 720x360 with 1 Axes>"
      ]
     },
     "metadata": {
      "needs_background": "light"
     },
     "output_type": "display_data"
    },
    {
     "data": {
      "image/png": "[encoded data removed]",
      "text/plain": [
       "<Figure size 720x360 with 1 Axes>"
      ]
     },
     "metadata": {
      "needs_background": "light"
     },
     "output_type": "display_data"
    },
    {
     "data": {
      "image/png": "[encoded data removed]",
      "text/plain": [
       "<Figure size 720x360 with 1 Axes>"
      ]
     },
     "metadata": {
      "needs_background": "light"
     },
     "output_type": "display_data"
    }
   ],
   "source": [
    "for feat in ['PASSIVITY', 'ABSTRACTNESS', 'NUMBERS', 'POLARITY']:\n",
    "    graph_dist(features, feat);"
   ]
  },
  {
   "cell_type": "markdown",
   "id": "8565fafe",
   "metadata": {},
   "source": [
    "Interestingly, the sentiment score does not appear to be particularly separable. All of our classes are mostly lumped together in terms of magnitude and range. We'll need to keep this in mind when building our model – in fact we may even toss this feature out altogether. On the other hand, our three other features seem like they will serve our model well. There's good separation between the classes, and within the classes themselves the features appear to be fairly well distributed."
   ]
  },
  {
   "cell_type": "markdown",
   "id": "cab414b7",
   "metadata": {},
   "source": [
    "Modeling II: Features\n",
    "-------------------------"
   ]
  },
  {
   "cell_type": "code",
   "execution_count": null,
   "id": "4e853726",
   "metadata": {},
   "outputs": [],
   "source": []
  }
 ],
 "metadata": {
  "kernelspec": {
   "display_name": "nlp",
   "language": "python",
   "name": "nlp"
  },
  "language_info": {
   "codemirror_mode": {
    "name": "ipython",
    "version": 3
   },
   "file_extension": ".py",
   "mimetype": "text/x-python",
   "name": "python",
   "nbconvert_exporter": "python",
   "pygments_lexer": "ipython3",
   "version": "3.7.3"
  }
 },
 "nbformat": 4,
 "nbformat_minor": 5
}
