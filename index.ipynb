{
 "cells": [
  {
   "cell_type": "markdown",
   "id": "0564503a",
   "metadata": {},
   "source": [
    "Overview\n",
    "=======\n",
    "\n",
    "This three-part workshop series introduces participants to natural language processing (NLP) with Python. It builds \n",
    "on our text mining series, [\"Getting Started with Textual Data\"], by extending the scope of data-inflected text \n",
    "analysis to include various methods of modeling meaning. Sessions will cover NLP topics ranging from segmentation \n",
    "and dependency parsing to sentiment analysis and context-sensitive modeling. We will also discuss how to implement \n",
    "such methods for tasks like classification. Basic familiarity with analyzing textual data in Python is required. We \n",
    "welcome students, postdocs, faculty, and staff from a variety of research domains, ranging from health informatics \n",
    "to the humanities.\n",
    "\n",
    "[\"Getting Started with Textual Data\"]: https://ucdavisdatalab.github.io/workshop_getting_started_with_textual_data/"
   ]
  }
 ],
 "metadata": {
  "kernelspec": {
   "display_name": "nlp",
   "language": "python",
   "name": "nlp"
  },
  "language_info": {
   "codemirror_mode": {
    "name": "ipython",
    "version": 3
   },
   "file_extension": ".py",
   "mimetype": "text/x-python",
   "name": "python",
   "nbconvert_exporter": "python",
   "pygments_lexer": "ipython3",
   "version": "3.9.12"
  }
 },
 "nbformat": 4,
 "nbformat_minor": 5
}
